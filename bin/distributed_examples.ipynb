{
 "cells": [
  {
   "cell_type": "code",
   "execution_count": 2,
   "metadata": {
    "collapsed": false
   },
   "outputs": [
    {
     "name": "stdout",
     "output_type": "stream",
     "text": [
      "  PID %MEM %CPU\n",
      "16809  1.1  0.4\n",
      "20861 20.2  105\n",
      "nothing\n"
     ]
    }
   ],
   "source": [
    "# Set up some convenient functions.\n",
    "\n",
    "# Print the memory usage for julia processes.\n",
    "function memstats()\n",
    "  println(run(`ps -C julia -o pid,%mem,%cpu`))\n",
    "end\n",
    "\n",
    "\n",
    "# See what is defined on each worker.\n",
    "function remote_vars()\n",
    "  for w in workers()\n",
    "    println(remotecall_fetch(w, whos))\n",
    "  end\n",
    "end\n",
    "\n",
    "# This is like @everywhere but only runs on a particular process.\n",
    "macro runat(p, ex)\n",
    "  quote\n",
    "    remotecall_fetch($p, ()->(eval(Main,$(Expr(:quote,ex))); nothing))\n",
    "  end\n",
    "end\n",
    "\n",
    "# This is like @everywhere but for remote workers only.\n",
    "macro everywhereelse(ex)\n",
    "  quote\n",
    "    @sync begin\n",
    "      for w in workers()\n",
    "        @async remotecall_fetch(w, ()->(eval(Main,$(Expr(:quote,ex))); nothing))\n",
    "      end\n",
    "    end\n",
    "  end\n",
    "end\n",
    "\n",
    "\n",
    "# Define some objects to pass around that are big enough to show up in memstats().\n",
    "mat = rand(int(1e4), int(1e4));\n",
    "mat2 = rand(int(1e4), int(1e4));\n",
    "\n",
    "# Remove remote workers\n",
    "for w in workers()\n",
    "    if w != myid()\n",
    "        rmprocs(w)\n",
    "    end\n",
    "end\n",
    "\n",
    "memstats()"
   ]
  },
  {
   "cell_type": "code",
   "execution_count": 3,
   "metadata": {
    "collapsed": false
   },
   "outputs": [
    {
     "name": "stdout",
     "output_type": "stream",
     "text": [
      "[1]\n",
      "[2,3]\n",
      "  PID %MEM %CPU\n",
      "16809  1.1  0.4\n",
      "20861 20.2 92.7\n",
      "20874  0.4  183\n",
      "20875  0.5  165\n",
      "nothing\n"
     ]
    }
   ],
   "source": [
    "# Counterintuitively, `workers()` at first contains `[1]` but after adding workers does not.\n",
    "println(workers())\n",
    "addprocs(2)\n",
    "println(workers())\n",
    "memstats()\n",
    "\n",
    "# Also: workers() does not necessarily return the same order everywhere.\n",
    "@everywhere println(workers())"
   ]
  },
  {
   "cell_type": "code",
   "execution_count": 4,
   "metadata": {
    "collapsed": false
   },
   "outputs": [
    {
     "name": "stdout",
     "output_type": "stream",
     "text": [
      "  PID %MEM %CPU\n",
      "16809  1.1  0.4\n",
      "20861 20.2 81.8\n",
      "20874  0.5 61.6\n",
      "20875  0.5 55.6\n",
      "nothing\n",
      "  PID %MEM %CPU\n",
      "16809  1.1  0.4\n",
      "20861 20.2 79.0\n",
      "20874  0.5 55.2\n",
      "20875  0.5 50.2\n",
      "nothing\n"
     ]
    }
   ],
   "source": [
    "# Here's one way to communicate `mat` to the workers.\n",
    "\n",
    "# First, set up the remote references.\n",
    "memstats()\n",
    "\n",
    "# The RemoteRefs will be used to communicate data from worker 1 to the other workers\n",
    "@everywhere rr = RemoteRef(1)\n",
    "rr_array = [ remotecall_fetch(worker, () -> rr) for worker in workers() ]\n",
    "\n",
    "# Next, put `mat` into each remote reference.\n",
    "for worker_rr in rr_array\n",
    "  put!(worker_rr, mat)\n",
    "end\n",
    "\n",
    "# Remote memory for `mat` has not been allocated yet.\n",
    "memstats()\n"
   ]
  },
  {
   "cell_type": "code",
   "execution_count": 5,
   "metadata": {
    "collapsed": false
   },
   "outputs": [
    {
     "name": "stdout",
     "output_type": "stream",
     "text": [
      "1: [0.6071000616729052 0.7430958292688057 0.6778330076122223 0.8839054732433813 0.6121863724628822\n",
      " 0.8828773574555082 0.4229148012881818 0.8639985321856845 0.0011281843066930364 0.5862599005689115\n",
      " 0.10347513414522802 0.08126627600731551 0.7336119446745044 0.598626275685985 0.323083707220027\n",
      " 0.4536449997364247 0.7080607729426764 0.7403655790387769 0.9829884215594171 0.242662917872968\n",
      " 0.4845115893603835 0.46521813389559097 0.4791944656582876 0.12093660795342465 0.7385056336446294]\n",
      "1: [0.6071000616729052 0.7430958292688057 0.6778330076122223 0.8839054732433813 0.6121863724628822\n",
      " 0.8828773574555082 0.4229148012881818 0.8639985321856845 0.0011281843066930364 0.5862599005689115\n",
      " 0.10347513414522802 0.08126627600731551 0.7336119446745044 0.598626275685985 0.323083707220027\n",
      " 0.4536449997364247 0.7080607729426764 0.7403655790387769 0.9829884215594171 0.242662917872968\n",
      " 0.4845115893603835 0.46521813389559097 0.4791944656582876 0.12093660795342465 0.7385056336446294]\n",
      "  PID %MEM %CPU\n",
      "16809  1.1  0.4\n",
      "20861 20.2 70.1\n",
      "20874  0.5 31.5\n",
      "20875  0.5 28.7\n",
      "nothing\n"
     ]
    }
   ],
   "source": [
    "# We can also `fetch()` without allocating memory:\n",
    "for worker_rr in rr_array\n",
    "  println(worker_rr.where, \": \", fetch(worker_rr)[1:5, 1:5])\n",
    "end\n",
    "memstats()"
   ]
  },
  {
   "cell_type": "code",
   "execution_count": 6,
   "metadata": {
    "collapsed": false
   },
   "outputs": [
    {
     "name": "stdout",
     "output_type": "stream",
     "text": [
      "  PID %MEM %CPU\n",
      "16809  1.1  0.4\n",
      "20861 22.2 60.7\n",
      "20874  5.3 22.4\n",
      "20875  5.3 21.0\n",
      "nothing\n",
      "  PID %MEM %CPU\n",
      "16809  1.1  0.4\n",
      "20861 10.6 60.8\n",
      "20874  5.3 22.4\n",
      "20875  5.3 21.0\n",
      "nothing\n"
     ]
    }
   ],
   "source": [
    "# However, assigning actually allocats memory.\n",
    "# Note that extra memory is also allocated no the master during the copy but is freed by gc().\n",
    "fetch_time1 = time()\n",
    "@everywhereelse mat11 = fetch(rr)[1,1]\n",
    "fetch_time1 = time() - fetch_time1\n",
    "memstats()\n",
    "gc()\n",
    "memstats()\n"
   ]
  },
  {
   "cell_type": "code",
   "execution_count": 7,
   "metadata": {
    "collapsed": false
   },
   "outputs": [
    {
     "name": "stdout",
     "output_type": "stream",
     "text": [
      "  PID %MEM %CPU\n",
      "16809  1.1  0.4\n",
      "20861 22.2 54.2\n",
      "20874 10.1 20.8\n",
      "20875 10.1 20.0\n",
      "nothing\n",
      "Fetch time 1: 1.8530800342559814\n",
      "Fetch time 2: 1.9487011432647705\n"
     ]
    }
   ],
   "source": [
    "# Subsequent fetches take just as much time and allocate just as much memory\n",
    "# before gc().  It is evidently re-fetching each time.\n",
    "fetch_time2 = time()\n",
    "@everywhereelse mat12 = fetch(rr)[1,2]\n",
    "fetch_time2 = time() - fetch_time2\n",
    "memstats()\n",
    "\n",
    "println(\"Fetch time 1: \", fetch_time1)\n",
    "println(\"Fetch time 2: \", fetch_time2)"
   ]
  },
  {
   "cell_type": "code",
   "execution_count": 11,
   "metadata": {
    "collapsed": false
   },
   "outputs": [
    {
     "name": "stdout",
     "output_type": "stream",
     "text": [
      "  PID %MEM %CPU\n",
      "16809  1.1  0.4\n",
      "20861 22.2 20.9\n",
      "20874 10.1  6.9\n",
      "20875 10.1  6.7\n",
      "nothing\n",
      "  PID %MEM %CPU\n",
      "16809  1.1  0.4\n",
      "20861 10.6 20.9\n",
      "20874  5.3  7.0\n",
      "20875  5.3  6.7\n",
      "nothing\n",
      "Fetch time 3: 1.8661770820617676\n"
     ]
    }
   ],
   "source": [
    "# Make a local copy of the whole array.  The fetch time is again the same.\n",
    "fetch_time3 = time()\n",
    "@everywhereelse mat_worker = fetch(rr)\n",
    "fetch_time3 = time() - fetch_time3\n",
    "memstats()\n",
    "\n",
    "# Again, the extra memory is freed with garbage collection.\n",
    "@everywhere gc()\n",
    "memstats()\n",
    "println(\"Fetch time 3: \", fetch_time3)"
   ]
  },
  {
   "cell_type": "code",
   "execution_count": 14,
   "metadata": {
    "collapsed": false
   },
   "outputs": [
    {
     "name": "stdout",
     "output_type": "stream",
     "text": [
      "Value from remote worker: -20.0\n",
      "Original value: 0.6071000616729052\n"
     ]
    }
   ],
   "source": [
    "# Confirm that the copy on worker two is in fact a local copy by changing some values.\n",
    "@runat 2 mat_worker[1,1]= -20.\n",
    "@runat 2 rr2 = RemoteRef(2)\n",
    "@runat 2 put!(rr2, mat_worker)\n",
    "rr2 = remotecall_fetch(2, () -> rr2)\n",
    "mat_worker = fetch(rr2);\n",
    "println(\"Value from remote worker: \", mat_worker[1, 1])\n",
    "println(\"Original value: \", mat[1, 1])"
   ]
  },
  {
   "cell_type": "code",
   "execution_count": 15,
   "metadata": {
    "collapsed": false
   },
   "outputs": [
    {
     "name": "stdout",
     "output_type": "stream",
     "text": [
      "  PID %MEM %CPU\n",
      "16809  1.1  0.4\n",
      "20861 20.2  9.5\n",
      "20874 11.1  3.6\n",
      "20875  5.3  2.7\n",
      "nothing\n",
      "  PID %MEM %CPU\n",
      "16809  1.1  0.4\n",
      "20861 20.2  9.3\n",
      "20874 29.2  5.9\n",
      "20875  5.3  2.6\n",
      "nothing\n"
     ]
    }
   ],
   "source": [
    "# As expected, allocating memory on process 2 only runs up the memory usage on process 2.\n",
    "memstats()\n",
    "@runat 2 num_big_mats = 5\n",
    "@runat 2 big_mats = Array(Any, num_big_mats);\n",
    "@runat 2 for i = 1:num_big_mats\n",
    "            big_mats[i] = rand(int(1e4), int(1e4))\n",
    "          end\n",
    "memstats()"
   ]
  },
  {
   "cell_type": "code",
   "execution_count": 16,
   "metadata": {
    "collapsed": false
   },
   "outputs": [
    {
     "name": "stdout",
     "output_type": "stream",
     "text": [
      "\tFrom worker 2:\t1.23\n",
      "\tFrom worker 2:\t1.23\n",
      "\tFrom worker 2:\t[1.23]\n",
      "\tFrom worker 2:\t[2.6799999999999997]\n"
     ]
    }
   ],
   "source": [
    "# Subsequent fetches doesn't pick up changes in the immutable objects\n",
    "@runat 2 rr = RemoteRef(1)\n",
    "rr = remotecall_fetch(2, () -> rr)\n",
    "myx = 1.23\n",
    "put!(rr, myx)\n",
    "@runat 2 println(fetch(rr))\n",
    "myx += 1.45\n",
    "@runat 2 println(fetch(rr))\n",
    "\n",
    "# But it does in mutable ones\n",
    "@runat 2 rr = RemoteRef(1)\n",
    "rr = remotecall_fetch(2, () -> rr)\n",
    "myxvec = [ 1.23 ]\n",
    "put!(rr, myxvec)\n",
    "@runat 2 println(fetch(rr))\n",
    "myxvec[1] += 1.45\n",
    "@runat 2 println(fetch(rr))"
   ]
  },
  {
   "cell_type": "code",
   "execution_count": 23,
   "metadata": {
    "collapsed": false
   },
   "outputs": [
    {
     "name": "stdout",
     "output_type": "stream",
     "text": [
      "\tFrom worker 2:\tBase                          Module\n",
      "\tFrom worker 2:\tCore                          Module\n",
      "\tFrom worker 2:\tMain                          Module\n",
      "\tFrom worker 2:\tbig_mats                      5-element Array{Any,1}\n",
      "\tFrom worker 2:\tmat11                         Float64\n",
      "\tFrom worker 2:\tmat12                         Float64\n",
      "\tFrom worker 2:\tmat_worker                    10000x10000 Array{Float64,2}\n",
      "\tFrom worker 2:\tnum_big_mats                  Int64\n",
      "\tFrom worker 2:\trr                            RemoteRef\n",
      "\tFrom worker 2:\trr2                           RemoteRef\n",
      "\tFrom worker 2:\ty                             Float64\n",
      "nothing\n",
      "\tFrom worker 3:\tBase                          Module\n",
      "\tFrom worker 3:\tCore                          Module\n",
      "\tFrom worker 3:\tMain                          Module\n",
      "\tFrom worker 3:\tmat11                         Float64\n",
      "\tFrom worker 3:\tmat12                         Float64\n",
      "\tFrom worker 3:\tmat_worker                    10000x10000 Array{Float64,2}\n",
      "\tFrom worker 3:\trr                            RemoteRef\n",
      "\tFrom worker 3:\ty                             Float64\n",
      "nothing\n",
      "\tFrom worker 2:\tBase                          Module\n",
      "\tFrom worker 2:\tCore                          Module\n",
      "\tFrom worker 2:\tMain                          Module\n",
      "\tFrom worker 2:\tbig_mats                      5-element Array{Any,1}\n",
      "\tFrom worker 2:\tmat11                         Float64\n",
      "\tFrom worker 2:\tmat12                         Float64\n",
      "\tFrom worker 2:\tmat_worker                    10000x10000 Array{Float64,2}\n",
      "\tFrom worker 2:\tnum_big_mats                  Int64\n",
      "\tFrom worker 2:\trr                            RemoteRef\n",
      "\tFrom worker 2:\trr2                           RemoteRef\n",
      "\tFrom worker 2:\ty                             Float64\n",
      "nothing\n",
      "\tFrom worker 3:\tBase                          Module\n",
      "\tFrom worker 3:\tCore                          Module\n",
      "\tFrom worker 3:\tMain                          Module\n",
      "\tFrom worker 3:\tmat11                         Float64\n",
      "\tFrom worker 3:\tmat12                         Float64\n",
      "\tFrom worker 3:\tmat_worker                    10000x10000 Array{Float64,2}\n",
      "\tFrom worker 3:\trr                            RemoteRef\n",
      "\tFrom worker 3:\ty                             Float64\n",
      "nothing\n",
      "1.345\n",
      "\tFrom worker 2:\t1.345\n",
      "\tFrom worker 3:\t1.345\n"
     ]
    }
   ],
   "source": [
    "# Note that @spawnat doesn't work for assignment since it resolves variables on the\n",
    "# calling process.\n",
    "for w in workers()\n",
    "  @spawnat w y = 1.234\n",
    "end\n",
    "remote_vars()\n",
    "\n",
    "# This works though\n",
    "@everywhere y = 1.345\n",
    "remote_vars()"
   ]
  },
  {
   "cell_type": "code",
   "execution_count": 25,
   "metadata": {
    "collapsed": true
   },
   "outputs": [],
   "source": [
    "# Note that once you have run put! on a RemoteRef, you cannot run it again.\n",
    "@everywhere rr = RemoteRef(1)\n",
    "rr_array = [ remotecall_fetch(worker, () -> rr) for worker in workers() ]\n",
    "\n",
    "i = 10.0\n",
    "for worker_rr in rr_array\n",
    "  put!(worker_rr, i)\n",
    "  i += 1\n",
    "end\n",
    "\n"
   ]
  }
 ],
 "metadata": {
  "kernelspec": {
   "display_name": "Julia 0.3.11",
   "language": "julia",
   "name": "julia-0.3"
  },
  "language_info": {
   "file_extension": ".jl",
   "mimetype": "application/julia",
   "name": "julia",
   "version": "0.3.11"
  }
 },
 "nbformat": 4,
 "nbformat_minor": 0
}
